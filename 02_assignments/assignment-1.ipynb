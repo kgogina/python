{
 "cells": [
  {
   "cell_type": "code",
   "execution_count": 7,
   "metadata": {},
   "outputs": [
    {
     "name": "stdout",
     "output_type": "stream",
     "text": [
      "True\n"
     ]
    }
   ],
   "source": [
    "def anagram_checker(word_a, word_b):\n",
    "    first_word = sorted(word_a.lower())\n",
    "    second_word = sorted(word_b.lower())\n",
    "\n",
    "    return first_word == second_word\n",
    "\n",
    "print(anagram_checker(\"night\", \"Thing\"))"
   ]
  },
  {
   "cell_type": "code",
   "execution_count": 18,
   "metadata": {},
   "outputs": [
    {
     "name": "stdout",
     "output_type": "stream",
     "text": [
      "False\n"
     ]
    }
   ],
   "source": [
    "def anagram_checker_case_sensitive(word_a, word_b, is_case_sensitive):\n",
    "    if is_case_sensitive:\n",
    "        first_word = sorted(word_a)\n",
    "        second_word = sorted(word_b)\n",
    "    else:\n",
    "        first_word = sorted(word_a.lower())\n",
    "        second_word = sorted(word_b.lower())\n",
    "\n",
    "    return first_word == second_word\n",
    "    \n",
    "print(anagram_checker_case_sensitive(\"Slient\", \"Listen\", True))\n"
   ]
  },
  {
   "cell_type": "code",
   "execution_count": null,
   "metadata": {},
   "outputs": [],
   "source": []
  },
  {
   "cell_type": "code",
   "execution_count": null,
   "metadata": {},
   "outputs": [],
   "source": []
  }
 ],
 "metadata": {
  "kernelspec": {
   "display_name": "dsi_participant",
   "language": "python",
   "name": "python3"
  },
  "language_info": {
   "codemirror_mode": {
    "name": "ipython",
    "version": 3
   },
   "file_extension": ".py",
   "mimetype": "text/x-python",
   "name": "python",
   "nbconvert_exporter": "python",
   "pygments_lexer": "ipython3",
   "version": "3.9.15"
  }
 },
 "nbformat": 4,
 "nbformat_minor": 2
}
